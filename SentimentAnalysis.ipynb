{
  "nbformat": 4,
  "nbformat_minor": 0,
  "metadata": {
    "colab": {
      "provenance": [],
      "gpuType": "T4"
    },
    "kernelspec": {
      "name": "python3",
      "display_name": "Python 3"
    },
    "language_info": {
      "name": "python"
    },
    "accelerator": "GPU"
  },
  "cells": [
    {
      "cell_type": "markdown",
      "source": [
        "**Sentiment Analysis**\n",
        "\n",
        "Here i'll analyze `Tweets` and build a model to predict whether the Tweet is positive, negative or neutral."
      ],
      "metadata": {
        "id": "REJOYw_nADrm"
      }
    },
    {
      "cell_type": "markdown",
      "source": [
        "# Importing required libraries"
      ],
      "metadata": {
        "id": "9EVRAuKGBGW9"
      }
    },
    {
      "cell_type": "code",
      "source": [
        "!pip install keras-preprocessing  # Install the missing package\n",
        "\n",
        "import zipfile\n",
        "import numpy as np\n",
        "import pandas as pd\n",
        "from io import  BytesIO\n",
        "from keras import Sequential\n",
        "from sklearn.svm import SVC\n",
        "import matplotlib.pyplot as plt\n",
        "from keras.utils import pad_sequences\n",
        "from keras.utils import pad_sequences\n",
        "from keras.utils import to_categorical\n",
        "from sklearn.metrics import accuracy_score\n",
        "from sklearn.naive_bayes import GaussianNB\n",
        "from sklearn.tree import DecisionTreeClassifier\n",
        "from sklearn.linear_model import LogisticRegression\n",
        "from sklearn.neighbors import KNeighborsClassifier\n",
        "from keras_preprocessing.text import Tokenizer\n",
        "from tensorflow.keras.utils import to_categorical\n",
        "from tensorflow.keras.callbacks import EarlyStopping\n",
        "from sklearn.ensemble import RandomForestClassifier, GradientBoostingClassifier\n",
        "from keras.layers import Dense, SimpleRNN, Embedding, Flatten, Input,LSTM,GRU,Dropout"
      ],
      "metadata": {
        "colab": {
          "base_uri": "https://localhost:8080/"
        },
        "id": "qjgQJMBRdHWz",
        "outputId": "62a531b6-f07d-44d0-a669-328ab7e8fe9e"
      },
      "execution_count": null,
      "outputs": [
        {
          "output_type": "stream",
          "name": "stdout",
          "text": [
            "Requirement already satisfied: keras-preprocessing in /usr/local/lib/python3.10/dist-packages (1.1.2)\n",
            "Requirement already satisfied: numpy>=1.9.1 in /usr/local/lib/python3.10/dist-packages (from keras-preprocessing) (1.26.4)\n",
            "Requirement already satisfied: six>=1.9.0 in /usr/local/lib/python3.10/dist-packages (from keras-preprocessing) (1.16.0)\n"
          ]
        }
      ]
    },
    {
      "cell_type": "markdown",
      "source": [
        "# Data Collection"
      ],
      "metadata": {
        "id": "A4rd7vsZAsdC"
      }
    },
    {
      "cell_type": "code",
      "source": [
        "!mkdir -p ~/.kaggle # Create a .kaggle directory\n",
        "!cp kaggle.json ~/.kaggle/ # Copy the kaggle.json file into the .kaggle directory\n",
        "!chmod 600 ~/.kaggle/kaggle.json # Set appropriate permissions on the kaggle.json file to secure credentials"
      ],
      "metadata": {
        "colab": {
          "base_uri": "https://localhost:8080/"
        },
        "id": "3OuNkvFKBFHc",
        "outputId": "b3f0bce8-5088-40ee-f2ce-3be1748ae6cc"
      },
      "execution_count": null,
      "outputs": [
        {
          "output_type": "stream",
          "name": "stdout",
          "text": [
            "cp: cannot stat 'kaggle.json': No such file or directory\n",
            "chmod: cannot access '/root/.kaggle/kaggle.json': No such file or directory\n"
          ]
        }
      ]
    },
    {
      "cell_type": "code",
      "source": [
        "!kaggle datasets download -d abhi8923shriv/sentiment-analysis-dataset # Download the Sentiment Analysis dataset from Kaggle"
      ],
      "metadata": {
        "colab": {
          "base_uri": "https://localhost:8080/"
        },
        "id": "OykARuyvF3KQ",
        "outputId": "3e5ebb3f-9e07-431b-d3ba-f58518ddcd26"
      },
      "execution_count": null,
      "outputs": [
        {
          "output_type": "stream",
          "name": "stdout",
          "text": [
            "Dataset URL: https://www.kaggle.com/datasets/abhi8923shriv/sentiment-analysis-dataset\n",
            "License(s): CC0-1.0\n",
            "sentiment-analysis-dataset.zip: Skipping, found more recently modified local copy (use --force to force download)\n"
          ]
        }
      ]
    },
    {
      "cell_type": "code",
      "source": [
        "# Create a ZipFile object to open the ZIP file located at '/content/dogs-vs-cats.zip' in read mode ('r')\n",
        "zip_ref = zipfile.ZipFile('/content/sentiment-analysis-dataset.zip', 'r')\n",
        "\n",
        "# Extract all contents of the ZIP file into the specified directory ('/content')\n",
        "zip_ref.extractall('/content')\n",
        "\n",
        "# Close the ZipFile object to free up resources\n",
        "zip_ref.close()"
      ],
      "metadata": {
        "id": "FZMs4L8SF4mU"
      },
      "execution_count": null,
      "outputs": []
    },
    {
      "cell_type": "code",
      "source": [
        "# Load training and validation datasets from CSV files with 'latin1' encoding\n",
        "\n",
        "train_ds = pd.read_csv('/content/train.csv', encoding='latin1')\n",
        "validation_ds = pd.read_csv('/content/test.csv', encoding='latin1')"
      ],
      "metadata": {
        "id": "5_eYSrkTHtdY"
      },
      "execution_count": null,
      "outputs": []
    },
    {
      "cell_type": "markdown",
      "source": [
        "# Data Cleaning and Preprocessing"
      ],
      "metadata": {
        "id": "8biggXKiHePH"
      }
    },
    {
      "cell_type": "markdown",
      "source": [
        "**Explore the datasets**"
      ],
      "metadata": {
        "id": "FdbdUzV9IZBw"
      }
    },
    {
      "cell_type": "code",
      "source": [
        "# Take two columns from dataset\n",
        "\n",
        "train_ds = train_ds[['text','sentiment']]\n",
        "validation_ds = validation_ds[['text','sentiment']]"
      ],
      "metadata": {
        "id": "y3LmijY1HIXX"
      },
      "execution_count": null,
      "outputs": []
    },
    {
      "cell_type": "code",
      "source": [
        "# print 5 sample data\n",
        "\n",
        "validation_ds.sample(5)"
      ],
      "metadata": {
        "colab": {
          "base_uri": "https://localhost:8080/",
          "height": 206
        },
        "id": "ZXwZOA1iIo7R",
        "outputId": "f8172f25-3baf-46da-ee98-8cdeb1a74170"
      },
      "execution_count": null,
      "outputs": [
        {
          "output_type": "execute_result",
          "data": {
            "text/plain": [
              "                                                   text sentiment\n",
              "2295  On the way back to dublin Omg didnt hit the be...   neutral\n",
              "2345                           walked home in the rain.   neutral\n",
              "4656                                                NaN       NaN\n",
              "2357           Working during graduation. What a shame.  negative\n",
              "2221   He`s an amazing jockey! Saw that Clydesdale c...  positive"
            ],
            "text/html": [
              "\n",
              "  <div id=\"df-600787d0-2f08-434e-ada6-37d2ea2ff860\" class=\"colab-df-container\">\n",
              "    <div>\n",
              "<style scoped>\n",
              "    .dataframe tbody tr th:only-of-type {\n",
              "        vertical-align: middle;\n",
              "    }\n",
              "\n",
              "    .dataframe tbody tr th {\n",
              "        vertical-align: top;\n",
              "    }\n",
              "\n",
              "    .dataframe thead th {\n",
              "        text-align: right;\n",
              "    }\n",
              "</style>\n",
              "<table border=\"1\" class=\"dataframe\">\n",
              "  <thead>\n",
              "    <tr style=\"text-align: right;\">\n",
              "      <th></th>\n",
              "      <th>text</th>\n",
              "      <th>sentiment</th>\n",
              "    </tr>\n",
              "  </thead>\n",
              "  <tbody>\n",
              "    <tr>\n",
              "      <th>2295</th>\n",
              "      <td>On the way back to dublin Omg didnt hit the be...</td>\n",
              "      <td>neutral</td>\n",
              "    </tr>\n",
              "    <tr>\n",
              "      <th>2345</th>\n",
              "      <td>walked home in the rain.</td>\n",
              "      <td>neutral</td>\n",
              "    </tr>\n",
              "    <tr>\n",
              "      <th>4656</th>\n",
              "      <td>NaN</td>\n",
              "      <td>NaN</td>\n",
              "    </tr>\n",
              "    <tr>\n",
              "      <th>2357</th>\n",
              "      <td>Working during graduation. What a shame.</td>\n",
              "      <td>negative</td>\n",
              "    </tr>\n",
              "    <tr>\n",
              "      <th>2221</th>\n",
              "      <td>He`s an amazing jockey! Saw that Clydesdale c...</td>\n",
              "      <td>positive</td>\n",
              "    </tr>\n",
              "  </tbody>\n",
              "</table>\n",
              "</div>\n",
              "    <div class=\"colab-df-buttons\">\n",
              "\n",
              "  <div class=\"colab-df-container\">\n",
              "    <button class=\"colab-df-convert\" onclick=\"convertToInteractive('df-600787d0-2f08-434e-ada6-37d2ea2ff860')\"\n",
              "            title=\"Convert this dataframe to an interactive table.\"\n",
              "            style=\"display:none;\">\n",
              "\n",
              "  <svg xmlns=\"http://www.w3.org/2000/svg\" height=\"24px\" viewBox=\"0 -960 960 960\">\n",
              "    <path d=\"M120-120v-720h720v720H120Zm60-500h600v-160H180v160Zm220 220h160v-160H400v160Zm0 220h160v-160H400v160ZM180-400h160v-160H180v160Zm440 0h160v-160H620v160ZM180-180h160v-160H180v160Zm440 0h160v-160H620v160Z\"/>\n",
              "  </svg>\n",
              "    </button>\n",
              "\n",
              "  <style>\n",
              "    .colab-df-container {\n",
              "      display:flex;\n",
              "      gap: 12px;\n",
              "    }\n",
              "\n",
              "    .colab-df-convert {\n",
              "      background-color: #E8F0FE;\n",
              "      border: none;\n",
              "      border-radius: 50%;\n",
              "      cursor: pointer;\n",
              "      display: none;\n",
              "      fill: #1967D2;\n",
              "      height: 32px;\n",
              "      padding: 0 0 0 0;\n",
              "      width: 32px;\n",
              "    }\n",
              "\n",
              "    .colab-df-convert:hover {\n",
              "      background-color: #E2EBFA;\n",
              "      box-shadow: 0px 1px 2px rgba(60, 64, 67, 0.3), 0px 1px 3px 1px rgba(60, 64, 67, 0.15);\n",
              "      fill: #174EA6;\n",
              "    }\n",
              "\n",
              "    .colab-df-buttons div {\n",
              "      margin-bottom: 4px;\n",
              "    }\n",
              "\n",
              "    [theme=dark] .colab-df-convert {\n",
              "      background-color: #3B4455;\n",
              "      fill: #D2E3FC;\n",
              "    }\n",
              "\n",
              "    [theme=dark] .colab-df-convert:hover {\n",
              "      background-color: #434B5C;\n",
              "      box-shadow: 0px 1px 3px 1px rgba(0, 0, 0, 0.15);\n",
              "      filter: drop-shadow(0px 1px 2px rgba(0, 0, 0, 0.3));\n",
              "      fill: #FFFFFF;\n",
              "    }\n",
              "  </style>\n",
              "\n",
              "    <script>\n",
              "      const buttonEl =\n",
              "        document.querySelector('#df-600787d0-2f08-434e-ada6-37d2ea2ff860 button.colab-df-convert');\n",
              "      buttonEl.style.display =\n",
              "        google.colab.kernel.accessAllowed ? 'block' : 'none';\n",
              "\n",
              "      async function convertToInteractive(key) {\n",
              "        const element = document.querySelector('#df-600787d0-2f08-434e-ada6-37d2ea2ff860');\n",
              "        const dataTable =\n",
              "          await google.colab.kernel.invokeFunction('convertToInteractive',\n",
              "                                                    [key], {});\n",
              "        if (!dataTable) return;\n",
              "\n",
              "        const docLinkHtml = 'Like what you see? Visit the ' +\n",
              "          '<a target=\"_blank\" href=https://colab.research.google.com/notebooks/data_table.ipynb>data table notebook</a>'\n",
              "          + ' to learn more about interactive tables.';\n",
              "        element.innerHTML = '';\n",
              "        dataTable['output_type'] = 'display_data';\n",
              "        await google.colab.output.renderOutput(dataTable, element);\n",
              "        const docLink = document.createElement('div');\n",
              "        docLink.innerHTML = docLinkHtml;\n",
              "        element.appendChild(docLink);\n",
              "      }\n",
              "    </script>\n",
              "  </div>\n",
              "\n",
              "\n",
              "<div id=\"df-7c486042-9cf9-44b8-899e-d29d2860c485\">\n",
              "  <button class=\"colab-df-quickchart\" onclick=\"quickchart('df-7c486042-9cf9-44b8-899e-d29d2860c485')\"\n",
              "            title=\"Suggest charts\"\n",
              "            style=\"display:none;\">\n",
              "\n",
              "<svg xmlns=\"http://www.w3.org/2000/svg\" height=\"24px\"viewBox=\"0 0 24 24\"\n",
              "     width=\"24px\">\n",
              "    <g>\n",
              "        <path d=\"M19 3H5c-1.1 0-2 .9-2 2v14c0 1.1.9 2 2 2h14c1.1 0 2-.9 2-2V5c0-1.1-.9-2-2-2zM9 17H7v-7h2v7zm4 0h-2V7h2v10zm4 0h-2v-4h2v4z\"/>\n",
              "    </g>\n",
              "</svg>\n",
              "  </button>\n",
              "\n",
              "<style>\n",
              "  .colab-df-quickchart {\n",
              "      --bg-color: #E8F0FE;\n",
              "      --fill-color: #1967D2;\n",
              "      --hover-bg-color: #E2EBFA;\n",
              "      --hover-fill-color: #174EA6;\n",
              "      --disabled-fill-color: #AAA;\n",
              "      --disabled-bg-color: #DDD;\n",
              "  }\n",
              "\n",
              "  [theme=dark] .colab-df-quickchart {\n",
              "      --bg-color: #3B4455;\n",
              "      --fill-color: #D2E3FC;\n",
              "      --hover-bg-color: #434B5C;\n",
              "      --hover-fill-color: #FFFFFF;\n",
              "      --disabled-bg-color: #3B4455;\n",
              "      --disabled-fill-color: #666;\n",
              "  }\n",
              "\n",
              "  .colab-df-quickchart {\n",
              "    background-color: var(--bg-color);\n",
              "    border: none;\n",
              "    border-radius: 50%;\n",
              "    cursor: pointer;\n",
              "    display: none;\n",
              "    fill: var(--fill-color);\n",
              "    height: 32px;\n",
              "    padding: 0;\n",
              "    width: 32px;\n",
              "  }\n",
              "\n",
              "  .colab-df-quickchart:hover {\n",
              "    background-color: var(--hover-bg-color);\n",
              "    box-shadow: 0 1px 2px rgba(60, 64, 67, 0.3), 0 1px 3px 1px rgba(60, 64, 67, 0.15);\n",
              "    fill: var(--button-hover-fill-color);\n",
              "  }\n",
              "\n",
              "  .colab-df-quickchart-complete:disabled,\n",
              "  .colab-df-quickchart-complete:disabled:hover {\n",
              "    background-color: var(--disabled-bg-color);\n",
              "    fill: var(--disabled-fill-color);\n",
              "    box-shadow: none;\n",
              "  }\n",
              "\n",
              "  .colab-df-spinner {\n",
              "    border: 2px solid var(--fill-color);\n",
              "    border-color: transparent;\n",
              "    border-bottom-color: var(--fill-color);\n",
              "    animation:\n",
              "      spin 1s steps(1) infinite;\n",
              "  }\n",
              "\n",
              "  @keyframes spin {\n",
              "    0% {\n",
              "      border-color: transparent;\n",
              "      border-bottom-color: var(--fill-color);\n",
              "      border-left-color: var(--fill-color);\n",
              "    }\n",
              "    20% {\n",
              "      border-color: transparent;\n",
              "      border-left-color: var(--fill-color);\n",
              "      border-top-color: var(--fill-color);\n",
              "    }\n",
              "    30% {\n",
              "      border-color: transparent;\n",
              "      border-left-color: var(--fill-color);\n",
              "      border-top-color: var(--fill-color);\n",
              "      border-right-color: var(--fill-color);\n",
              "    }\n",
              "    40% {\n",
              "      border-color: transparent;\n",
              "      border-right-color: var(--fill-color);\n",
              "      border-top-color: var(--fill-color);\n",
              "    }\n",
              "    60% {\n",
              "      border-color: transparent;\n",
              "      border-right-color: var(--fill-color);\n",
              "    }\n",
              "    80% {\n",
              "      border-color: transparent;\n",
              "      border-right-color: var(--fill-color);\n",
              "      border-bottom-color: var(--fill-color);\n",
              "    }\n",
              "    90% {\n",
              "      border-color: transparent;\n",
              "      border-bottom-color: var(--fill-color);\n",
              "    }\n",
              "  }\n",
              "</style>\n",
              "\n",
              "  <script>\n",
              "    async function quickchart(key) {\n",
              "      const quickchartButtonEl =\n",
              "        document.querySelector('#' + key + ' button');\n",
              "      quickchartButtonEl.disabled = true;  // To prevent multiple clicks.\n",
              "      quickchartButtonEl.classList.add('colab-df-spinner');\n",
              "      try {\n",
              "        const charts = await google.colab.kernel.invokeFunction(\n",
              "            'suggestCharts', [key], {});\n",
              "      } catch (error) {\n",
              "        console.error('Error during call to suggestCharts:', error);\n",
              "      }\n",
              "      quickchartButtonEl.classList.remove('colab-df-spinner');\n",
              "      quickchartButtonEl.classList.add('colab-df-quickchart-complete');\n",
              "    }\n",
              "    (() => {\n",
              "      let quickchartButtonEl =\n",
              "        document.querySelector('#df-7c486042-9cf9-44b8-899e-d29d2860c485 button');\n",
              "      quickchartButtonEl.style.display =\n",
              "        google.colab.kernel.accessAllowed ? 'block' : 'none';\n",
              "    })();\n",
              "  </script>\n",
              "</div>\n",
              "\n",
              "    </div>\n",
              "  </div>\n"
            ],
            "application/vnd.google.colaboratory.intrinsic+json": {
              "type": "dataframe",
              "summary": "{\n  \"name\": \"validation_ds\",\n  \"rows\": 5,\n  \"fields\": [\n    {\n      \"column\": \"text\",\n      \"properties\": {\n        \"dtype\": \"string\",\n        \"num_unique_values\": 4,\n        \"samples\": [\n          \"walked home in the rain.\",\n          \" He`s an amazing jockey! Saw that Clydesdale commercial too..loved it!\",\n          \"On the way back to dublin Omg didnt hit the bed until 530  so i am so sleepy   but once again on the road back to good ole  dublin :-p ...\"\n        ],\n        \"semantic_type\": \"\",\n        \"description\": \"\"\n      }\n    },\n    {\n      \"column\": \"sentiment\",\n      \"properties\": {\n        \"dtype\": \"string\",\n        \"num_unique_values\": 3,\n        \"samples\": [\n          \"neutral\",\n          \"negative\",\n          \"positive\"\n        ],\n        \"semantic_type\": \"\",\n        \"description\": \"\"\n      }\n    }\n  ]\n}"
            }
          },
          "metadata": {},
          "execution_count": 159
        }
      ]
    },
    {
      "cell_type": "code",
      "source": [
        "# Drop missing values\n",
        "\n",
        "train_ds = train_ds.dropna()\n",
        "validation_ds = validation_ds.dropna()"
      ],
      "metadata": {
        "id": "8hLSwDo7Ismb"
      },
      "execution_count": null,
      "outputs": []
    },
    {
      "cell_type": "code",
      "source": [
        "# print shape of the training and validation dataset\n",
        "\n",
        "print('Shape of the training data:',train_ds.shape)\n",
        "print('Shape of the validation data:',validation_ds.shape)"
      ],
      "metadata": {
        "colab": {
          "base_uri": "https://localhost:8080/"
        },
        "id": "JIuQHp9AKPhn",
        "outputId": "1092c3d1-c71d-46b8-f271-2ac31e0a2ceb"
      },
      "execution_count": null,
      "outputs": [
        {
          "output_type": "stream",
          "name": "stdout",
          "text": [
            "Shape of the training data: (27480, 2)\n",
            "Shape of the validation data: (3534, 2)\n"
          ]
        }
      ]
    },
    {
      "cell_type": "markdown",
      "source": [
        "# ploting"
      ],
      "metadata": {
        "id": "QyN3CayNtw90"
      }
    },
    {
      "cell_type": "code",
      "source": [
        "# Plot the bar plot\n",
        "train_ds['sentiment'].value_counts().plot.bar(color='skyblue', edgecolor='black')\n",
        "\n",
        "# Add title and labels\n",
        "plt.title('Sentiment Distribution Count')\n",
        "plt.xlabel('Sentiment')\n",
        "plt.ylabel('Count')\n",
        "\n",
        "# Show the plot\n",
        "plt.show()"
      ],
      "metadata": {
        "id": "y6FfxInOtxML",
        "colab": {
          "base_uri": "https://localhost:8080/",
          "height": 519
        },
        "outputId": "fac5c3c0-4a49-45f9-d3e2-ae3e6a8b39e2"
      },
      "execution_count": null,
      "outputs": [
        {
          "output_type": "display_data",
          "data": {
            "text/plain": [
              "<Figure size 640x480 with 1 Axes>"
            ],
            "image/png": "[encoded data removed]"
          },
          "metadata": {}
        }
      ]
    },
    {
      "cell_type": "code",
      "source": [
        "fig = plt.figure(figsize=(7,7))\n",
        "\n",
        "colors = ('skyblue', 'lightcoral', 'green')\n",
        "\n",
        "wp = {'linewidth':1, \"edgecolor\":'black'}\n",
        "\n",
        "tags = train_ds['sentiment'].value_counts()/train_ds.shape[0]\n",
        "\n",
        "# Calculate the number of sentiment categories\n",
        "num_categories = len(tags)\n",
        "\n",
        "# Create an explode tuple with the correct length\n",
        "explode = (0.1,) * num_categories\n",
        "\n",
        "tags.plot(kind='pie', autopct=\"%1.1f%%\", shadow=True, colors=colors, startangle=90, wedgeprops=wp, explode=explode, label='Percentage rating')\n",
        "\n",
        "graph = BytesIO()\n",
        "\n",
        "fig.savefig(graph, format=\"png\")"
      ],
      "metadata": {
        "colab": {
          "base_uri": "https://localhost:8080/",
          "height": 576
        },
        "id": "A0weAHIytxPN",
        "outputId": "e47fe69d-7497-4256-b947-cd0edb695954"
      },
      "execution_count": null,
      "outputs": [
        {
          "output_type": "display_data",
          "data": {
            "text/plain": [
              "<Figure size 700x700 with 1 Axes>"
            ],
            "image/png": "[encoded data removed]"
          },
          "metadata": {}
        }
      ]
    },
    {
      "cell_type": "markdown",
      "source": [
        "`40.5%` -- Neutral.\n",
        "\n",
        "`31.2%` -- Positive.\n",
        "\n",
        "`28.3%` -- Negative."
      ],
      "metadata": {
        "id": "crs4fUtlvaiT"
      }
    },
    {
      "cell_type": "markdown",
      "source": [
        "# Feature Engineering"
      ],
      "metadata": {
        "id": "_J9WUn8tt3yS"
      }
    },
    {
      "cell_type": "code",
      "source": [
        "# Define a function to convert sentiment labels to numeric values\n",
        "def function(sentiment):\n",
        "    # If the sentiment is 'positive', return 0\n",
        "    if sentiment == 'positive':\n",
        "        return 0\n",
        "    # If the sentiment is 'negative', return 1\n",
        "    elif sentiment == 'negative':\n",
        "        return 1\n",
        "    # For any other sentiment, return 2\n",
        "    else:\n",
        "        return 2\n",
        "\n",
        "# Apply the function to the 'sentiment' column of the train dataset\n",
        "train_ds['sentiment'] = train_ds['sentiment'].apply(function)\n",
        "\n",
        "# Apply the same function to the 'sentiment' column of the validation dataset\n",
        "validation_ds['sentiment'] = validation_ds['sentiment'].apply(function)"
      ],
      "metadata": {
        "id": "2NHP5LEfKls7"
      },
      "execution_count": null,
      "outputs": []
    },
    {
      "cell_type": "code",
      "source": [
        "# Convert the 'text' column from the dataset into a numpy array\n",
        "\n",
        "x_train = np.array(train_ds['text'].tolist())\n",
        "y_train = np.array(train_ds['sentiment'].tolist())\n",
        "x_test = np.array(validation_ds['text'].tolist())\n",
        "y_test = np.array(validation_ds['sentiment'].tolist())"
      ],
      "metadata": {
        "id": "Q93D_gxTLnIk"
      },
      "execution_count": null,
      "outputs": []
    },
    {
      "cell_type": "code",
      "source": [
        "# Print X_train\n",
        "\n",
        "x_train"
      ],
      "metadata": {
        "colab": {
          "base_uri": "https://localhost:8080/"
        },
        "id": "2tvHQncJQZ_0",
        "outputId": "a445ae0b-ec72-48b6-c7e1-a3df61ad8ffb"
      },
      "execution_count": null,
      "outputs": [
        {
          "output_type": "execute_result",
          "data": {
            "text/plain": [
              "array([' I`d have responded, if I were going',\n",
              "       ' Sooo SAD I will miss you here in San Diego!!!',\n",
              "       'my boss is bullying me...', ...,\n",
              "       ' Yay good for both of you. Enjoy the break - you probably need it after such hectic weekend  Take care hun xxxx',\n",
              "       ' But it was worth it  ****.',\n",
              "       '   All this flirting going on - The ATG smiles. Yay.  ((hugs))'],\n",
              "      dtype='<U159')"
            ]
          },
          "metadata": {},
          "execution_count": 166
        }
      ]
    },
    {
      "cell_type": "code",
      "source": [
        "# Print y_test\n",
        "\n",
        "y_test"
      ],
      "metadata": {
        "colab": {
          "base_uri": "https://localhost:8080/"
        },
        "id": "Gii2ibihRgl6",
        "outputId": "93bf650b-abfd-46d9-f8f8-792eadaf99fa"
      },
      "execution_count": null,
      "outputs": [
        {
          "output_type": "execute_result",
          "data": {
            "text/plain": [
              "array([2, 0, 1, ..., 1, 0, 0])"
            ]
          },
          "metadata": {},
          "execution_count": 167
        }
      ]
    },
    {
      "cell_type": "code",
      "source": [
        "# Convert the training and testing labels to one-hot encoded format\n",
        "\n",
        "y_train = to_categorical(y_train, 3)\n",
        "y_test = to_categorical(y_test, 3)"
      ],
      "metadata": {
        "id": "Z-GTPJ6CRpRU"
      },
      "execution_count": null,
      "outputs": []
    },
    {
      "cell_type": "code",
      "source": [
        "# Initialize the Tokenizer with a maximum number of words\n",
        "tokenizer = Tokenizer(num_words=2000)\n",
        "\n",
        "# Fit the tokenizer on the training data\n",
        "tokenizer.fit_on_texts(x_train)"
      ],
      "metadata": {
        "id": "IvxWH7qtkjyw"
      },
      "execution_count": null,
      "outputs": []
    },
    {
      "cell_type": "code",
      "source": [
        "len(tokenizer.word_index)"
      ],
      "metadata": {
        "colab": {
          "base_uri": "https://localhost:8080/"
        },
        "id": "MNgWrzYnkqAf",
        "outputId": "6e71ede5-a9a3-49fd-c132-af06bce20c64"
      },
      "execution_count": null,
      "outputs": [
        {
          "output_type": "execute_result",
          "data": {
            "text/plain": [
              "26598"
            ]
          },
          "metadata": {},
          "execution_count": 170
        }
      ]
    },
    {
      "cell_type": "code",
      "source": [
        "# Convert text to sequences of integers\n",
        "\n",
        "x_train = tokenizer.texts_to_sequences(x_train)\n",
        "x_test = tokenizer.texts_to_sequences(x_test)"
      ],
      "metadata": {
        "id": "s_hXsbXrrWdS"
      },
      "execution_count": null,
      "outputs": []
    },
    {
      "cell_type": "code",
      "source": [
        "# Pad the sequences\n",
        "\n",
        "x_train = pad_sequences(x_train, padding='post', maxlen=30)\n",
        "x_test = pad_sequences(x_test, padding='post', maxlen=30)"
      ],
      "metadata": {
        "id": "2z5kcHvBmZiR"
      },
      "execution_count": null,
      "outputs": []
    },
    {
      "cell_type": "code",
      "source": [
        "x_train[49]"
      ],
      "metadata": {
        "colab": {
          "base_uri": "https://localhost:8080/"
        },
        "id": "jcF9ZnKwqXKK",
        "outputId": "e1c15332-1909-4184-acc1-7555d6897fe6"
      },
      "execution_count": null,
      "outputs": [
        {
          "output_type": "execute_result",
          "data": {
            "text/plain": [
              "array([ 385, 1001,    1,   49,    4,   75,   54,   98,  133,    8,    1,\n",
              "         21,   27,   26,   29,   24,  382,    0,    0,    0,    0,    0,\n",
              "          0,    0,    0,    0,    0,    0,    0,    0], dtype=int32)"
            ]
          },
          "metadata": {},
          "execution_count": 173
        }
      ]
    },
    {
      "cell_type": "code",
      "source": [
        "x_train.shape"
      ],
      "metadata": {
        "colab": {
          "base_uri": "https://localhost:8080/"
        },
        "id": "mQLZf_DSsJ3R",
        "outputId": "b63802d0-64f0-49fa-b518-66f62f1cab1e"
      },
      "execution_count": null,
      "outputs": [
        {
          "output_type": "execute_result",
          "data": {
            "text/plain": [
              "(27480, 30)"
            ]
          },
          "metadata": {},
          "execution_count": 174
        }
      ]
    },
    {
      "cell_type": "markdown",
      "source": [
        "# Model Building"
      ],
      "metadata": {
        "id": "D4N2LuNNwe4v"
      }
    },
    {
      "cell_type": "markdown",
      "source": [
        "\"I'll begin with `Machine Learning` models."
      ],
      "metadata": {
        "id": "q4zEMAYcwhYf"
      }
    },
    {
      "cell_type": "markdown",
      "source": [
        "**Machine Learning Models**"
      ],
      "metadata": {
        "id": "JhxdM5TcxgNx"
      }
    },
    {
      "cell_type": "code",
      "source": [
        "# Convert one-hot encoded labels to single integer labels\n",
        "y_train_int = np.argmax(y_train, axis=1)\n",
        "y_test_int = np.argmax(y_test, axis=1)\n",
        "\n",
        "models = {\n",
        "    'Logistic Regression': LogisticRegression(multi_class='multinomial', solver='saga', max_iter=1000),\n",
        "    'Decision Tree': DecisionTreeClassifier(),\n",
        "    'Random Forest': RandomForestClassifier(),\n",
        "    'Gradient Boosting': GradientBoostingClassifier(),\n",
        "    'Support Vector Classifier': SVC(),\n",
        "    'K-Nearest Neighbors': KNeighborsClassifier(),\n",
        "    'Naive Bayes': GaussianNB()\n",
        "}\n",
        "\n",
        "# Dictionary to store accuracy results\n",
        "results = {}\n",
        "\n",
        "# Train and evaluate each model\n",
        "for name, model in models.items():\n",
        "    # Train the model\n",
        "    model.fit(x_train, y_train_int)\n",
        "\n",
        "    # Predict on training data\n",
        "    y_train_pred = model.predict(x_train)\n",
        "    train_accuracy = accuracy_score(y_train_int, y_train_pred)\n",
        "\n",
        "    # Predict on test data\n",
        "    y_test_pred = model.predict(x_test)\n",
        "    test_accuracy = accuracy_score(y_test_int, y_test_pred)\n",
        "\n",
        "    # Store the results\n",
        "    results[name] = {\n",
        "        'Training Accuracy': train_accuracy,\n",
        "        'Test Accuracy': test_accuracy\n",
        "    }\n",
        "\n",
        "# Display the results\n",
        "for name, accuracy in results.items():\n",
        "    print(f\"{name}:\")\n",
        "    print(f\" - Training Accuracy: {accuracy['Training Accuracy']:.4f}\")\n",
        "    print(f\" - Test Accuracy: {accuracy['Test Accuracy']:.4f}\")\n",
        "    print()\n"
      ],
      "metadata": {
        "colab": {
          "base_uri": "https://localhost:8080/"
        },
        "id": "Mm9gJoN7sj4E",
        "outputId": "539aceb2-37a4-46ff-9baa-2b0ff9f5d87d"
      },
      "execution_count": null,
      "outputs": [
        {
          "output_type": "stream",
          "name": "stdout",
          "text": [
            "Logistic Regression:\n",
            " - Training Accuracy: 0.4064\n",
            " - Test Accuracy: 0.3998\n",
            "\n",
            "Decision Tree:\n",
            " - Training Accuracy: 0.9963\n",
            " - Test Accuracy: 0.4151\n",
            "\n",
            "Random Forest:\n",
            " - Training Accuracy: 0.9963\n",
            " - Test Accuracy: 0.4383\n",
            "\n",
            "Gradient Boosting:\n",
            " - Training Accuracy: 0.5092\n",
            " - Test Accuracy: 0.4584\n",
            "\n",
            "Support Vector Classifier:\n",
            " - Training Accuracy: 0.4844\n",
            " - Test Accuracy: 0.3981\n",
            "\n",
            "K-Nearest Neighbors:\n",
            " - Training Accuracy: 0.5749\n",
            " - Test Accuracy: 0.3732\n",
            "\n",
            "Naive Bayes:\n",
            " - Training Accuracy: 0.3201\n",
            " - Test Accuracy: 0.3186\n",
            "\n"
          ]
        }
      ]
    },
    {
      "cell_type": "markdown",
      "source": [
        "`I observed poor accuracy and signs of overfitting, so I'll proceed with Deep RNN.`"
      ],
      "metadata": {
        "id": "Y_Pj8Dxm1P0u"
      }
    },
    {
      "cell_type": "markdown",
      "source": [
        "#### Deep RNN"
      ],
      "metadata": {
        "id": "aArQEg2s1oeo"
      }
    },
    {
      "cell_type": "code",
      "source": [
        "# Define and build a Sequential model with embedding, GRU layers, dropout, and a dense output layer for multi-class classification.\n",
        "\n",
        "\n",
        "model = Sequential()\n",
        "model.add(Embedding(input_dim=20000, output_dim=5, input_length=30))\n",
        "model.add(GRU(100, return_sequences=True))\n",
        "Dropout(0.5)\n",
        "model.add(GRU(50))\n",
        "model.add(Flatten())\n",
        "model.add(Dense(3, activation='sigmoid'))\n",
        "model.build(input_shape=(None, 30))"
      ],
      "metadata": {
        "id": "yWWmFkMXshzb"
      },
      "execution_count": null,
      "outputs": []
    },
    {
      "cell_type": "code",
      "source": [
        "# Display a summary of the model's architecture and parameters\n",
        "\n",
        "model.summary()"
      ],
      "metadata": {
        "colab": {
          "base_uri": "https://localhost:8080/",
          "height": 289
        },
        "id": "oqdQIQLoti0t",
        "outputId": "2f981118-10b2-480a-906c-d3db367cde4b"
      },
      "execution_count": null,
      "outputs": [
        {
          "output_type": "display_data",
          "data": {
            "text/plain": [
              "\u001b[1mModel: \"sequential_35\"\u001b[0m\n"
            ],
            "text/html": [
              "<pre style=\"white-space:pre;overflow-x:auto;line-height:normal;font-family:Menlo,'DejaVu Sans Mono',consolas,'Courier New',monospace\"><span style=\"font-weight: bold\">Model: \"sequential_35\"</span>\n",
              "</pre>\n"
            ]
          },
          "metadata": {}
        },
        {
          "output_type": "display_data",
          "data": {
            "text/plain": [
              "┏━━━━━━━━━━━━━━━━━━━━━━━━━━━━━━━━━━━━━━┳━━━━━━━━━━━━━━━━━━━━━━━━━━━━━┳━━━━━━━━━━━━━━━━━┓\n",
              "┃\u001b[1m \u001b[0m\u001b[1mLayer (type)                        \u001b[0m\u001b[1m \u001b[0m┃\u001b[1m \u001b[0m\u001b[1mOutput Shape               \u001b[0m\u001b[1m \u001b[0m┃\u001b[1m \u001b[0m\u001b[1m        Param #\u001b[0m\u001b[1m \u001b[0m┃\n",
              "┡━━━━━━━━━━━━━━━━━━━━━━━━━━━━━━━━━━━━━━╇━━━━━━━━━━━━━━━━━━━━━━━━━━━━━╇━━━━━━━━━━━━━━━━━┩\n",
              "│ embedding_35 (\u001b[38;5;33mEmbedding\u001b[0m)             │ (\u001b[38;5;45mNone\u001b[0m, \u001b[38;5;34m30\u001b[0m, \u001b[38;5;34m5\u001b[0m)               │         \u001b[38;5;34m100,000\u001b[0m │\n",
              "├──────────────────────────────────────┼─────────────────────────────┼─────────────────┤\n",
              "│ gru_55 (\u001b[38;5;33mGRU\u001b[0m)                         │ (\u001b[38;5;45mNone\u001b[0m, \u001b[38;5;34m30\u001b[0m, \u001b[38;5;34m100\u001b[0m)             │          \u001b[38;5;34m32,100\u001b[0m │\n",
              "├──────────────────────────────────────┼─────────────────────────────┼─────────────────┤\n",
              "│ gru_56 (\u001b[38;5;33mGRU\u001b[0m)                         │ (\u001b[38;5;45mNone\u001b[0m, \u001b[38;5;34m50\u001b[0m)                  │          \u001b[38;5;34m22,800\u001b[0m │\n",
              "├──────────────────────────────────────┼─────────────────────────────┼─────────────────┤\n",
              "│ flatten_11 (\u001b[38;5;33mFlatten\u001b[0m)                 │ (\u001b[38;5;45mNone\u001b[0m, \u001b[38;5;34m50\u001b[0m)                  │               \u001b[38;5;34m0\u001b[0m │\n",
              "├──────────────────────────────────────┼─────────────────────────────┼─────────────────┤\n",
              "│ dense_34 (\u001b[38;5;33mDense\u001b[0m)                     │ (\u001b[38;5;45mNone\u001b[0m, \u001b[38;5;34m3\u001b[0m)                   │             \u001b[38;5;34m153\u001b[0m │\n",
              "└──────────────────────────────────────┴─────────────────────────────┴─────────────────┘\n"
            ],
            "text/html": [
              "<pre style=\"white-space:pre;overflow-x:auto;line-height:normal;font-family:Menlo,'DejaVu Sans Mono',consolas,'Courier New',monospace\">┏━━━━━━━━━━━━━━━━━━━━━━━━━━━━━━━━━━━━━━┳━━━━━━━━━━━━━━━━━━━━━━━━━━━━━┳━━━━━━━━━━━━━━━━━┓\n",
              "┃<span style=\"font-weight: bold\"> Layer (type)                         </span>┃<span style=\"font-weight: bold\"> Output Shape                </span>┃<span style=\"font-weight: bold\">         Param # </span>┃\n",
              "┡━━━━━━━━━━━━━━━━━━━━━━━━━━━━━━━━━━━━━━╇━━━━━━━━━━━━━━━━━━━━━━━━━━━━━╇━━━━━━━━━━━━━━━━━┩\n",
              "│ embedding_35 (<span style=\"color: #0087ff; text-decoration-color: #0087ff\">Embedding</span>)             │ (<span style=\"color: #00d7ff; text-decoration-color: #00d7ff\">None</span>, <span style=\"color: #00af00; text-decoration-color: #00af00\">30</span>, <span style=\"color: #00af00; text-decoration-color: #00af00\">5</span>)               │         <span style=\"color: #00af00; text-decoration-color: #00af00\">100,000</span> │\n",
              "├──────────────────────────────────────┼─────────────────────────────┼─────────────────┤\n",
              "│ gru_55 (<span style=\"color: #0087ff; text-decoration-color: #0087ff\">GRU</span>)                         │ (<span style=\"color: #00d7ff; text-decoration-color: #00d7ff\">None</span>, <span style=\"color: #00af00; text-decoration-color: #00af00\">30</span>, <span style=\"color: #00af00; text-decoration-color: #00af00\">100</span>)             │          <span style=\"color: #00af00; text-decoration-color: #00af00\">32,100</span> │\n",
              "├──────────────────────────────────────┼─────────────────────────────┼─────────────────┤\n",
              "│ gru_56 (<span style=\"color: #0087ff; text-decoration-color: #0087ff\">GRU</span>)                         │ (<span style=\"color: #00d7ff; text-decoration-color: #00d7ff\">None</span>, <span style=\"color: #00af00; text-decoration-color: #00af00\">50</span>)                  │          <span style=\"color: #00af00; text-decoration-color: #00af00\">22,800</span> │\n",
              "├──────────────────────────────────────┼─────────────────────────────┼─────────────────┤\n",
              "│ flatten_11 (<span style=\"color: #0087ff; text-decoration-color: #0087ff\">Flatten</span>)                 │ (<span style=\"color: #00d7ff; text-decoration-color: #00d7ff\">None</span>, <span style=\"color: #00af00; text-decoration-color: #00af00\">50</span>)                  │               <span style=\"color: #00af00; text-decoration-color: #00af00\">0</span> │\n",
              "├──────────────────────────────────────┼─────────────────────────────┼─────────────────┤\n",
              "│ dense_34 (<span style=\"color: #0087ff; text-decoration-color: #0087ff\">Dense</span>)                     │ (<span style=\"color: #00d7ff; text-decoration-color: #00d7ff\">None</span>, <span style=\"color: #00af00; text-decoration-color: #00af00\">3</span>)                   │             <span style=\"color: #00af00; text-decoration-color: #00af00\">153</span> │\n",
              "└──────────────────────────────────────┴─────────────────────────────┴─────────────────┘\n",
              "</pre>\n"
            ]
          },
          "metadata": {}
        },
        {
          "output_type": "display_data",
          "data": {
            "text/plain": [
              "\u001b[1m Total params: \u001b[0m\u001b[38;5;34m155,053\u001b[0m (605.68 KB)\n"
            ],
            "text/html": [
              "<pre style=\"white-space:pre;overflow-x:auto;line-height:normal;font-family:Menlo,'DejaVu Sans Mono',consolas,'Courier New',monospace\"><span style=\"font-weight: bold\"> Total params: </span><span style=\"color: #00af00; text-decoration-color: #00af00\">155,053</span> (605.68 KB)\n",
              "</pre>\n"
            ]
          },
          "metadata": {}
        },
        {
          "output_type": "display_data",
          "data": {
            "text/plain": [
              "\u001b[1m Trainable params: \u001b[0m\u001b[38;5;34m155,053\u001b[0m (605.68 KB)\n"
            ],
            "text/html": [
              "<pre style=\"white-space:pre;overflow-x:auto;line-height:normal;font-family:Menlo,'DejaVu Sans Mono',consolas,'Courier New',monospace\"><span style=\"font-weight: bold\"> Trainable params: </span><span style=\"color: #00af00; text-decoration-color: #00af00\">155,053</span> (605.68 KB)\n",
              "</pre>\n"
            ]
          },
          "metadata": {}
        },
        {
          "output_type": "display_data",
          "data": {
            "text/plain": [
              "\u001b[1m Non-trainable params: \u001b[0m\u001b[38;5;34m0\u001b[0m (0.00 B)\n"
            ],
            "text/html": [
              "<pre style=\"white-space:pre;overflow-x:auto;line-height:normal;font-family:Menlo,'DejaVu Sans Mono',consolas,'Courier New',monospace\"><span style=\"font-weight: bold\"> Non-trainable params: </span><span style=\"color: #00af00; text-decoration-color: #00af00\">0</span> (0.00 B)\n",
              "</pre>\n"
            ]
          },
          "metadata": {}
        }
      ]
    },
    {
      "cell_type": "code",
      "source": [
        "# Compile the model with Adam optimizer and categorical crossentropy loss for multi-class classification\n",
        "\n",
        "model.compile(optimizer='adam', loss='categorical_crossentropy', metrics=['accuracy'])"
      ],
      "metadata": {
        "id": "fUKWEHN5tuZT"
      },
      "execution_count": null,
      "outputs": []
    },
    {
      "cell_type": "code",
      "source": [
        " # Stop training when no improvement, restoring best weights\n",
        "\n",
        "early_stopping = EarlyStopping(monitor='val_accuracy', patience=3, restore_best_weights=True)"
      ],
      "metadata": {
        "id": "wnBy0JxozsIn"
      },
      "execution_count": null,
      "outputs": []
    },
    {
      "cell_type": "code",
      "source": [
        "# Train the model for 50 epochs with validation and early stopping\n",
        "\n",
        "history = model.fit(x_train, y_train, epochs=50, validation_data=(x_test, y_test), callbacks=[early_stopping])"
      ],
      "metadata": {
        "colab": {
          "base_uri": "https://localhost:8080/"
        },
        "id": "QlTJXc5LuTOe",
        "outputId": "ed2b58b8-f5b4-417d-889d-6160512aef30"
      },
      "execution_count": null,
      "outputs": [
        {
          "output_type": "stream",
          "name": "stdout",
          "text": [
            "Epoch 1/50\n",
            "\u001b[1m859/859\u001b[0m \u001b[32m━━━━━━━━━━━━━━━━━━━━\u001b[0m\u001b[37m\u001b[0m \u001b[1m8s\u001b[0m 7ms/step - accuracy: 0.4049 - loss: 1.0881 - val_accuracy: 0.4046 - val_loss: 1.0873\n",
            "Epoch 2/50\n",
            "\u001b[1m859/859\u001b[0m \u001b[32m━━━━━━━━━━━━━━━━━━━━\u001b[0m\u001b[37m\u001b[0m \u001b[1m10s\u001b[0m 7ms/step - accuracy: 0.4107 - loss: 1.0822 - val_accuracy: 0.6183 - val_loss: 0.8754\n",
            "Epoch 3/50\n",
            "\u001b[1m859/859\u001b[0m \u001b[32m━━━━━━━━━━━━━━━━━━━━\u001b[0m\u001b[37m\u001b[0m \u001b[1m11s\u001b[0m 9ms/step - accuracy: 0.6633 - loss: 0.8209 - val_accuracy: 0.6989 - val_loss: 0.7471\n",
            "Epoch 4/50\n",
            "\u001b[1m859/859\u001b[0m \u001b[32m━━━━━━━━━━━━━━━━━━━━\u001b[0m\u001b[37m\u001b[0m \u001b[1m6s\u001b[0m 7ms/step - accuracy: 0.7159 - loss: 0.7156 - val_accuracy: 0.7026 - val_loss: 0.7267\n",
            "Epoch 5/50\n",
            "\u001b[1m859/859\u001b[0m \u001b[32m━━━━━━━━━━━━━━━━━━━━\u001b[0m\u001b[37m\u001b[0m \u001b[1m7s\u001b[0m 9ms/step - accuracy: 0.7248 - loss: 0.6877 - val_accuracy: 0.7040 - val_loss: 0.7014\n",
            "Epoch 6/50\n",
            "\u001b[1m859/859\u001b[0m \u001b[32m━━━━━━━━━━━━━━━━━━━━\u001b[0m\u001b[37m\u001b[0m \u001b[1m9s\u001b[0m 7ms/step - accuracy: 0.7328 - loss: 0.6545 - val_accuracy: 0.7060 - val_loss: 0.6930\n",
            "Epoch 7/50\n",
            "\u001b[1m859/859\u001b[0m \u001b[32m━━━━━━━━━━━━━━━━━━━━\u001b[0m\u001b[37m\u001b[0m \u001b[1m10s\u001b[0m 7ms/step - accuracy: 0.7473 - loss: 0.6244 - val_accuracy: 0.7162 - val_loss: 0.6715\n",
            "Epoch 8/50\n",
            "\u001b[1m859/859\u001b[0m \u001b[32m━━━━━━━━━━━━━━━━━━━━\u001b[0m\u001b[37m\u001b[0m \u001b[1m8s\u001b[0m 9ms/step - accuracy: 0.7659 - loss: 0.5839 - val_accuracy: 0.7221 - val_loss: 0.6717\n",
            "Epoch 9/50\n",
            "\u001b[1m859/859\u001b[0m \u001b[32m━━━━━━━━━━━━━━━━━━━━\u001b[0m\u001b[37m\u001b[0m \u001b[1m6s\u001b[0m 7ms/step - accuracy: 0.7764 - loss: 0.5648 - val_accuracy: 0.7145 - val_loss: 0.6862\n",
            "Epoch 10/50\n",
            "\u001b[1m859/859\u001b[0m \u001b[32m━━━━━━━━━━━━━━━━━━━━\u001b[0m\u001b[37m\u001b[0m \u001b[1m7s\u001b[0m 8ms/step - accuracy: 0.7848 - loss: 0.5439 - val_accuracy: 0.7286 - val_loss: 0.6794\n",
            "Epoch 11/50\n",
            "\u001b[1m859/859\u001b[0m \u001b[32m━━━━━━━━━━━━━━━━━━━━\u001b[0m\u001b[37m\u001b[0m \u001b[1m9s\u001b[0m 7ms/step - accuracy: 0.7895 - loss: 0.5317 - val_accuracy: 0.7244 - val_loss: 0.6741\n",
            "Epoch 12/50\n",
            "\u001b[1m859/859\u001b[0m \u001b[32m━━━━━━━━━━━━━━━━━━━━\u001b[0m\u001b[37m\u001b[0m \u001b[1m10s\u001b[0m 7ms/step - accuracy: 0.7973 - loss: 0.5206 - val_accuracy: 0.7210 - val_loss: 0.6912\n",
            "Epoch 13/50\n",
            "\u001b[1m859/859\u001b[0m \u001b[32m━━━━━━━━━━━━━━━━━━━━\u001b[0m\u001b[37m\u001b[0m \u001b[1m12s\u001b[0m 8ms/step - accuracy: 0.7965 - loss: 0.5240 - val_accuracy: 0.7193 - val_loss: 0.7005\n"
          ]
        }
      ]
    },
    {
      "cell_type": "markdown",
      "source": [
        "#### Plotting graphs for traning and validation score"
      ],
      "metadata": {
        "id": "DPq5174A5lmF"
      }
    },
    {
      "cell_type": "code",
      "source": [
        "# Create a figure with 1 row and 2 columns of subplots\n",
        "plt.figure(figsize=(10, 5))\n",
        "\n",
        "# Plot accuracy\n",
        "plt.subplot(1, 2, 1)  # (rows, columns, index)\n",
        "plt.plot(history.history['accuracy'], label='Training Accuracy')\n",
        "plt.plot(history.history['val_accuracy'], label='Validation Accuracy')\n",
        "plt.title('Accuracy')\n",
        "plt.xlabel('Epoch')\n",
        "plt.ylabel('Accuracy')\n",
        "plt.legend()\n",
        "\n",
        "# Plot loss\n",
        "plt.subplot(1, 2, 2)  # (rows, columns, index)\n",
        "plt.plot(history.history['loss'], label='Training Loss')\n",
        "plt.plot(history.history['val_loss'], label='Validation Loss')\n",
        "plt.title('Loss')\n",
        "plt.xlabel('Epoch')\n",
        "plt.ylabel('Loss')\n",
        "plt.legend()\n",
        "\n",
        "# Show the plots\n",
        "plt.tight_layout()\n",
        "plt.show()\n"
      ],
      "metadata": {
        "colab": {
          "base_uri": "https://localhost:8080/",
          "height": 507
        },
        "id": "CpaATGH7uVYK",
        "outputId": "ab0f6ae7-2b9e-4bf2-dec9-7998ae5a53a5"
      },
      "execution_count": null,
      "outputs": [
        {
          "output_type": "display_data",
          "data": {
            "text/plain": [
              "<Figure size 1000x500 with 2 Axes>"
            ],
            "image/png": "[encoded data removed]"
          },
          "metadata": {}
        }
      ]
    },
    {
      "cell_type": "markdown",
      "source": [
        "#### Make Predictions"
      ],
      "metadata": {
        "id": "bRoOhVHL3JH-"
      }
    },
    {
      "cell_type": "code",
      "source": [
        "# Example texts\n",
        "text1 = \"The movie was bad bad bad, I will not recommend this movie to anyone\"\n",
        "text2 = \"This is my day, I hope this will be a great day for me.\"\n",
        "text3 = 'The price of one kg potato is 100BDT.'\n",
        "\n",
        "# Tokenize and pad sequences\n",
        "new_text_seq = tokenizer.texts_to_sequences([text1, text2, text3])  # Tokenize new texts\n",
        "new_text_padded = pad_sequences(new_text_seq, padding='post', maxlen=35)  # Use max_len determined during training\n",
        "\n",
        "# Make predictions\n",
        "predictions = model.predict(new_text_padded)\n",
        "\n",
        "# Get the class with the highest probability\n",
        "predicted_class_index = predictions.argmax(axis=-1)\n",
        "\n",
        "# Map indices to sentiment labels\n",
        "sentiment_labels = {0: \"Positive Sentiment\", 1: \"Negative Sentiment\", 2: \"Neutral Sentiment\"}\n",
        "\n",
        "# Print predictions\n",
        "for i, text in enumerate([text1, text2, text3]):\n",
        "    print(f\"Text: '{text}'\")\n",
        "    print(f\"Predicted Sentiment: {sentiment_labels[predicted_class_index[i]]}\")\n"
      ],
      "metadata": {
        "colab": {
          "base_uri": "https://localhost:8080/"
        },
        "id": "qwFov3TV3QSQ",
        "outputId": "95bc63ac-12d5-4524-9a59-c95d6b3b19f0"
      },
      "execution_count": null,
      "outputs": [
        {
          "output_type": "stream",
          "name": "stdout",
          "text": [
            "\u001b[1m1/1\u001b[0m \u001b[32m━━━━━━━━━━━━━━━━━━━━\u001b[0m\u001b[37m\u001b[0m \u001b[1m0s\u001b[0m 158ms/step\n",
            "Text: 'The movie was bad bad bad, I will not recommend this movie to anyone'\n",
            "Predicted Sentiment: Negative Sentiment\n",
            "Text: 'This is my day, I hope this will be a great day for me.'\n",
            "Predicted Sentiment: Positive Sentiment\n",
            "Text: 'The price of one kg potato is 100BDT.'\n",
            "Predicted Sentiment: Positive Sentiment\n"
          ]
        }
      ]
    },
    {
      "cell_type": "markdown",
      "source": [
        "**Predictions:**\n",
        "\n",
        "Text1: *'The movie was bad bad bad, I will not recommend this movie to anyone'*\n",
        "\n",
        "Predicted Sentiment: **`Negative Sentiment`**\n",
        "\n",
        "Text2: *'This is my day, I hope this will be a great day for me.'*\n",
        "\n",
        "Predicted Sentiment: **`Positive Sentiment`**\n",
        "\n",
        "Text2: *'The price of one kg potato is 100BDT.'*\n",
        "\n",
        "Predicted Sentiment: **`Neutral Sentiment`**"
      ],
      "metadata": {
        "id": "jHn7Vp-U496E"
      }
    },
    {
      "cell_type": "code",
      "source": [],
      "metadata": {
        "id": "el5mzsj6KwLg"
      },
      "execution_count": null,
      "outputs": []
    }
  ]
}
